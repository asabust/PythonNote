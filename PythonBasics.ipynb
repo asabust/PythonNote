{
 "cells": [
  {
   "cell_type": "markdown",
   "metadata": {},
   "source": [
    "# Python Basics\n",
    "\n",
    "\n",
    "运行一个脚本：`%run url`\n",
    "载入一段脚本：`%load xxx.py`\n",
    "?查询数据类型：`data?`\n",
    "?查看命名空间，可以用通配符：`np.*load?`\n",
    "??查看函数源码：`add_numbers??`\n",
    "\n",
    "### jupyterbook的快捷键\n",
    "中断：ctrl+c\n",
    "光标移动到行开头：ctrl+A\n",
    "光标移动到行末尾：ctrl+E\n",
    "删除到行尾：ctrl+k\n",
    "删除本行：ctrl+u\n",
    "向下新建cell：a\n",
    "向上新建cell：b\n",
    "查看快捷键：h"
   ]
  },
  {
   "cell_type": "code",
   "execution_count": 24,
   "metadata": {},
   "outputs": [],
   "source": [
    "%magic #查看所有魔法方法\n",
    "%quickref #快速手册"
   ]
  },
  {
   "cell_type": "code",
   "execution_count": 3,
   "metadata": {},
   "outputs": [],
   "source": [
    "#常用包\n",
    "import numpy as np\n",
    "import matplotlib.pyplot as plt\n",
    "import pandas as pd\n",
    "import seaborn as sns\n",
    "import statsmodels as sm"
   ]
  },
  {
   "cell_type": "code",
   "execution_count": 16,
   "metadata": {},
   "outputs": [],
   "source": [
    "#同时创建多个绘图窗口，不感染控制台session\n",
    "%matplotlib inline "
   ]
  },
  {
   "cell_type": "code",
   "execution_count": 7,
   "metadata": {},
   "outputs": [],
   "source": [
    "data = {i : np.random.randn() for i in range(7)}"
   ]
  },
  {
   "cell_type": "code",
   "execution_count": 11,
   "metadata": {},
   "outputs": [
    {
     "data": {
      "text/plain": [
       "{0: 0.4868565089734301,\n",
       " 1: 0.09616754979100287,\n",
       " 2: -0.3450778679539041,\n",
       " 3: 0.5376482572291683,\n",
       " 4: 0.5541866433406847,\n",
       " 5: 0.3299243558632961,\n",
       " 6: -0.8066490493824597}"
      ]
     },
     "execution_count": 11,
     "metadata": {},
     "output_type": "execute_result"
    }
   ],
   "source": [
    "data"
   ]
  },
  {
   "cell_type": "markdown",
   "metadata": {},
   "source": [
    "## 属性和方法"
   ]
  },
  {
   "cell_type": "code",
   "execution_count": 63,
   "metadata": {},
   "outputs": [
    {
     "data": {
      "text/plain": [
       "[5, 6]"
      ]
     },
     "execution_count": 63,
     "metadata": {},
     "output_type": "execute_result"
    }
   ],
   "source": [
    "a = (5, 6)\n",
    "#确保类型\n",
    "isinstance(a, int)\n",
    "\n",
    "iter(a)\n",
    "\n",
    "def isiterable(obj):\n",
    "    try:\n",
    "        iter(obj)\n",
    "        return True\n",
    "    except TypeErrpr:\n",
    "        return False\n",
    "\n",
    "if not isinstance(a, list) and isiterable(a):\n",
    "    a = list(a) # 可迭代对象复制成一个list，深拷贝\n",
    "a"
   ]
  },
  {
   "cell_type": "code",
   "execution_count": 33,
   "metadata": {},
   "outputs": [
    {
     "data": {
      "text/plain": [
       "True"
      ]
     },
     "execution_count": 33,
     "metadata": {},
     "output_type": "execute_result"
    }
   ],
   "source": [
    "a = None\n",
    "a is None # None实例是唯一的"
   ]
  },
  {
   "cell_type": "code",
   "execution_count": 54,
   "metadata": {},
   "outputs": [
    {
     "data": {
      "text/plain": [
       "True"
      ]
     },
     "execution_count": 54,
     "metadata": {},
     "output_type": "execute_result"
    }
   ],
   "source": [
    "#-5 - 256都是唯一实例\n",
    "a = -5\n",
    "b = -5\n",
    "a is b"
   ]
  },
  {
   "cell_type": "code",
   "execution_count": 66,
   "metadata": {},
   "outputs": [
    {
     "data": {
      "text/plain": [
       "1"
      ]
     },
     "execution_count": 66,
     "metadata": {},
     "output_type": "execute_result"
    }
   ],
   "source": [
    "3 // 2 #整除"
   ]
  },
  {
   "cell_type": "code",
   "execution_count": 124,
   "metadata": {},
   "outputs": [
    {
     "data": {
      "text/plain": [
       "'测试测试\\\\n测试~~~'"
      ]
     },
     "execution_count": 124,
     "metadata": {},
     "output_type": "execute_result"
    }
   ],
   "source": [
    "# \\需要转义，默认转义转义：r'字符串'\n",
    "a = r'测试测试\\n测试~~~'\n",
    "a"
   ]
  },
  {
   "cell_type": "code",
   "execution_count": 78,
   "metadata": {},
   "outputs": [
    {
     "name": "stdout",
     "output_type": "stream",
     "text": [
      "0 -0.37144592683200833\n",
      "1 -1.257366923821632\n",
      "2 1.7394393917355297\n",
      "3 0.11332347329573225\n",
      "4 -0.062497504569075386\n",
      "5 -0.3240084156236501\n",
      "6 -0.2059235820664326\n"
     ]
    }
   ],
   "source": [
    "data = [(i, np.random.randn()) for i in range(7)]\n",
    "\n",
    "for a, b in data:\n",
    "    print(a, b)\n"
   ]
  },
  {
   "cell_type": "markdown",
   "metadata": {},
   "source": [
    "## 切片\n",
    "`[start : stop : step]`\n",
    "包括start，不包括stop。\n",
    "切片不改变原来的列表"
   ]
  },
  {
   "cell_type": "code",
   "execution_count": 14,
   "metadata": {},
   "outputs": [
    {
     "name": "stdout",
     "output_type": "stream",
     "text": [
      "[8, 5, 2]\n"
     ]
    },
    {
     "data": {
      "text/plain": [
       "[2, 3, 4, 5, 6, 7, 8, 9]"
      ]
     },
     "execution_count": 14,
     "metadata": {},
     "output_type": "execute_result"
    }
   ],
   "source": [
    "l = list(range(2,10))\n",
    "print(l[-2::-3])\n",
    "l"
   ]
  },
  {
   "cell_type": "code",
   "execution_count": null,
   "metadata": {},
   "outputs": [],
   "source": []
  },
  {
   "cell_type": "code",
   "execution_count": 123,
   "metadata": {},
   "outputs": [
    {
     "data": {
      "text/plain": [
       "True"
      ]
     },
     "execution_count": 123,
     "metadata": {},
     "output_type": "execute_result"
    }
   ],
   "source": [
    "# 秒解异构词问题\n",
    "a = \"ape\"\n",
    "b = \"pae\"\n",
    "\n",
    "sorted(a) == sorted(b)"
   ]
  },
  {
   "cell_type": "code",
   "execution_count": 125,
   "metadata": {},
   "outputs": [
    {
     "name": "stdout",
     "output_type": "stream",
     "text": [
      "{'a': 1, 'b': 0}\n"
     ]
    },
    {
     "data": {
      "text/plain": [
       "False"
      ]
     },
     "execution_count": 125,
     "metadata": {},
     "output_type": "execute_result"
    }
   ],
   "source": [
    "d = {'a':1}\n",
    "if 'b' not in d:\n",
    "    d['b'] = 0\n",
    "print(d)\n",
    "\n",
    "if d['b']: # 0 和 None在条件句里面自动转成bool了\n",
    "    print(\"b is none\")\n",
    "\n",
    "bool('')\n"
   ]
  },
  {
   "cell_type": "code",
   "execution_count": 122,
   "metadata": {},
   "outputs": [
    {
     "data": {
      "text/plain": [
       "{1: 'a', 2: 'b', 3: 'c'}"
      ]
     },
     "execution_count": 122,
     "metadata": {},
     "output_type": "execute_result"
    }
   ],
   "source": [
    "#字典的本质是2元 元组的集合，dict可以接受2元元组列表\n",
    "list1 = [1, 2, 3]\n",
    "list2 = ['a', 'b', 'c']\n",
    "\n",
    "mapping = dict(zip(list1, list2))\n",
    "mapping"
   ]
  },
  {
   "cell_type": "markdown",
   "metadata": {},
   "source": [
    "## 推导式 \n",
    "\n",
    "```\n",
    "# 列表\n",
    "[expr for val in collection if condition]\n",
    "# 字典\n",
    "{ker-expr : value-expr for value in collection if condition}\n",
    "# 集合\n",
    "{expr for value in collection if condition}\n",
    "```\n"
   ]
  },
  {
   "cell_type": "code",
   "execution_count": 126,
   "metadata": {},
   "outputs": [
    {
     "data": {
      "text/plain": [
       "{'a': 0, 'cute': 1, 'cat': 2}"
      ]
     },
     "execution_count": 126,
     "metadata": {},
     "output_type": "execute_result"
    }
   ],
   "source": [
    "strings = ['a', 'cute', 'cat']\n",
    "\n",
    "loc_mapping = {val : index for index , val in enumerate(strings)}\n",
    "loc_mapping"
   ]
  },
  {
   "cell_type": "code",
   "execution_count": 15,
   "metadata": {},
   "outputs": [
    {
     "data": {
      "text/plain": [
       "['other is long', 'value is long']"
      ]
     },
     "execution_count": 15,
     "metadata": {},
     "output_type": "execute_result"
    }
   ],
   "source": [
    "#嵌套推导式是 嵌套的顺序不是推导式的顺序\n",
    "#三层嵌套影响阅读体验\n",
    "all_data = [['some', 'test', 'data'],['other'],['value', 'maby']]\n",
    "\n",
    "result = [ '{0} is long'.format(w) for ws in all_data for w in ws if len(w) > 4 ]\n",
    "result"
   ]
  },
  {
   "cell_type": "code",
   "execution_count": 19,
   "metadata": {},
   "outputs": [
    {
     "data": {
      "text/plain": [
       "[0, 1, 2, 3, 4]"
      ]
     },
     "execution_count": 19,
     "metadata": {},
     "output_type": "execute_result"
    }
   ],
   "source": [
    "#函数namespace问题\n",
    "a = []\n",
    "def func():\n",
    "    for i in range(5):\n",
    "        a.append(i)\n",
    "\n",
    "func()\n",
    "a"
   ]
  },
  {
   "cell_type": "markdown",
   "metadata": {},
   "source": [
    "## 常见问题\n"
   ]
  },
  {
   "cell_type": "code",
   "execution_count": 2,
   "metadata": {},
   "outputs": [
    {
     "data": {
      "text/plain": [
       "[1, 2, 10]"
      ]
     },
     "execution_count": 2,
     "metadata": {},
     "output_type": "execute_result"
    }
   ],
   "source": [
    "# 1. 数组复制问题\n",
    "a = [1, 2, 3]\n",
    "b = a\n",
    "# 对b的修改都会影响a\n",
    "\n",
    "# 解决办法：复制列表的方法, 切片，list()\n",
    "b = a[:]\n"
   ]
  },
  {
   "cell_type": "code",
   "execution_count": 6,
   "metadata": {},
   "outputs": [
    {
     "data": {
      "text/plain": [
       "[[0, 0, 0, 0, 0],\n",
       " [0, 0, 0, 0, 0],\n",
       " [0, 0, 0, 0, 0],\n",
       " [0, 0, 0, 0, 0],\n",
       " [0, 0, 0, 0, 0]]"
      ]
     },
     "execution_count": 6,
     "metadata": {},
     "output_type": "execute_result"
    }
   ],
   "source": [
    "# 2. 矩阵初始化问题\n",
    "\n",
    "M = [[0] * 5] * 5\n",
    "M"
   ]
  },
  {
   "cell_type": "code",
   "execution_count": 9,
   "metadata": {},
   "outputs": [
    {
     "data": {
      "text/plain": [
       "[[1, 0, 0, 0, 0],\n",
       " [1, 0, 0, 0, 0],\n",
       " [1, 0, 0, 0, 0],\n",
       " [1, 0, 0, 0, 0],\n",
       " [1, 0, 0, 0, 0]]"
      ]
     },
     "execution_count": 9,
     "metadata": {},
     "output_type": "execute_result"
    }
   ],
   "source": [
    "# 对元素的修改会影响每一行\n",
    "M[1][0] = 1\n",
    "M"
   ]
  },
  {
   "cell_type": "code",
   "execution_count": 12,
   "metadata": {},
   "outputs": [
    {
     "data": {
      "text/plain": [
       "[[0, 0, 0, 0, 0],\n",
       " [5, 0, 0, 0, 0],\n",
       " [0, 0, 0, 0, 0],\n",
       " [0, 0, 0, 0, 0],\n",
       " [0, 0, 0, 0, 0]]"
      ]
     },
     "execution_count": 12,
     "metadata": {},
     "output_type": "execute_result"
    }
   ],
   "source": [
    "# 解决办法：用numpy来处理矩阵\n",
    "#或者是这样\n",
    "M1 = [[0] * 5 for _ in range(5)]\n",
    "M1[1][0] = 5\n",
    "M1"
   ]
  },
  {
   "cell_type": "code",
   "execution_count": 18,
   "metadata": {},
   "outputs": [],
   "source": [
    "# 3.反向遍历问题\n",
    "for i in range(10): #0-9, 不包括10\n",
    "    pass\n",
    "\n",
    "for i in range(10, 0, -1): #10-1， 不包括0\n",
    "    pass\n",
    "    \n",
    "#想要 9-0 的反向遍历\n",
    "for i in range(9, -1, -1):\n",
    "    pass\n"
   ]
  }
 ],
 "metadata": {
  "kernelspec": {
   "display_name": "Python 3",
   "language": "python",
   "name": "python3"
  },
  "language_info": {
   "codemirror_mode": {
    "name": "ipython",
    "version": 3
   },
   "file_extension": ".py",
   "mimetype": "text/x-python",
   "name": "python",
   "nbconvert_exporter": "python",
   "pygments_lexer": "ipython3",
   "version": "3.6.5"
  }
 },
 "nbformat": 4,
 "nbformat_minor": 2
}
